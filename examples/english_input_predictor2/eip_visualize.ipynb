{
 "cells": [
  {
   "cell_type": "code",
   "execution_count": 1,
   "metadata": {
    "collapsed": false
   },
   "outputs": [],
   "source": [
    "from __future__ import division\n",
    "import numpy as np\n",
    "import pickle\n",
    "%matplotlib inline\n",
    "import matplotlib.pyplot as plt\n",
    "import math\n",
    "import lmdb\n",
    "import itertools\n",
    "import json\n",
    "\n",
    "# Make sure that caffe is on the python path:\n",
    "caffe_root = '../../'  # this file is expected to be in {caffe_root}/examples/language_model\n",
    "import sys\n",
    "sys.path.insert(0, caffe_root + 'python')\n",
    "import apollocaffe\n",
    "sys.path.insert(0, caffe_root + 'python/apollocaffe/proto')\n",
    "import caffe_pb2\n",
    "sys.path.insert(0, caffe_root + 'examples/english_input_predictor2')\n",
    "from train import (load_indice_file, forward)"
   ]
  },
  {
   "cell_type": "code",
   "execution_count": 2,
   "metadata": {
    "collapsed": false
   },
   "outputs": [
    {
     "name": "stdout",
     "output_type": "stream",
     "text": [
      "2015-12-23 14:03:52 - GPU device 0\n"
     ]
    }
   ],
   "source": [
    "config = json.load(open(\"config.json\", 'r'))\n",
    "net_config = config[\"net\"]\n",
    "apollocaffe.set_random_seed(config[\"solver\"][\"random_seed\"])\n",
    "apollocaffe.set_device(0)"
   ]
  },
  {
   "cell_type": "code",
   "execution_count": 3,
   "metadata": {
    "collapsed": false
   },
   "outputs": [],
   "source": [
    "# Warning: load_idl returns an infinite generator. Calling list() before islice() will hang.\n",
    "test_gen = load_indice_file(config[\"data\"][\"test_file\"], config[\"net\"])"
   ]
  },
  {
   "cell_type": "code",
   "execution_count": 23,
   "metadata": {
    "collapsed": false
   },
   "outputs": [],
   "source": [
    "net = apollocaffe.ApolloNet()\n",
    "net.phase = 'test'\n",
    "forward(net, test_gen.next(), config[\"net\"], False)\n",
    "net.load(\"/home/pig/apollocaffe-master/examples/english_input_predictor2/tmp/reinspect_200000.h5\")"
   ]
  },
  {
   "cell_type": "code",
   "execution_count": 5,
   "metadata": {
    "collapsed": false
   },
   "outputs": [],
   "source": [
    "vocab = pickle.load(open(caffe_root + 'examples/english_input_predictor/vocab.pkl', 'rb'))\n",
    "inv = lambda d: {v:k for k,v in d.iteritems()}\n",
    "vocab_inv = inv(vocab)"
   ]
  },
  {
   "cell_type": "code",
   "execution_count": 12,
   "metadata": {
    "collapsed": true
   },
   "outputs": [],
   "source": [
    "def indice_2_string(indice):\n",
    "    string = ''\n",
    "    for i in indice:\n",
    "        i = int(i)\n",
    "        if i == net_config['unknown_symbol']:\n",
    "            string += '#'\n",
    "        elif i == net_config['start_symbol']:\n",
    "            string += '$'\n",
    "        elif i == net_config['zero_symbol']:\n",
    "            string += ' '\n",
    "        else:\n",
    "            string += vocab_inv[i]\n",
    "    return string"
   ]
  },
  {
   "cell_type": "code",
   "execution_count": 7,
   "metadata": {
    "collapsed": false
   },
   "outputs": [],
   "source": [
    "def get_max_indice(probs):\n",
    "    indice = []\n",
    "    for i in range(net_config['max_len']):\n",
    "        peakIndex = np.argmax(probs[i,:])\n",
    "        indice.append(peakIndex)\n",
    "    return indice"
   ]
  },
  {
   "cell_type": "code",
   "execution_count": 17,
   "metadata": {
    "collapsed": false
   },
   "outputs": [],
   "source": [
    "def if_the_same(pred_indice, target_indice):\n",
    "    for i in range(len(target_indice)):\n",
    "        if target_indice[i]!=net_config['zero_symbol'] and target_indice[i]!=pred_indice[i]:\n",
    "            return False\n",
    "    return True"
   ]
  },
  {
   "cell_type": "code",
   "execution_count": 34,
   "metadata": {
    "collapsed": false
   },
   "outputs": [
    {
     "name": "stdout",
     "output_type": "stream",
     "text": [
      "0.458062648773\n"
     ]
    }
   ],
   "source": [
    "test_en = test_gen.next()\n",
    "forward(net, test_en, config[\"net\"], False)\n",
    "print net.loss\n",
    "forward(net, test_en, config[\"net\"], True)"
   ]
  },
  {
   "cell_type": "code",
   "execution_count": 35,
   "metadata": {
    "collapsed": false
   },
   "outputs": [
    {
     "name": "stdout",
     "output_type": "stream",
     "text": [
      "$bill s and they didn't cha                                                                         \n",
      "                           charge                                                                   \n",
      "gon  iisaa ahatatid   ddui change                                                                   \n",
      "$pokemom                                                                                            \n",
      "        pokemom                                                                                     \n",
      "gal     pokemon                                                                                     \n",
      "$about me s don't say abit                                                                          \n",
      "                          shit                                                                      \n",
      "g aaaaaommosod  ddadssaaaaabout                                                                     \n",
      "$s the reason j was rokd                                                                            \n",
      "                        told                                                                        \n",
      "goshtttorr rrsoion wir  rold                                                                        \n",
      "$s heald                                                                                            \n",
      "        heals                                                                                       \n",
      "gosoh   heald                                                                                       \n",
      "$lilo and st                                                                                        \n",
      "            stitch                                                                                  \n",
      "gol li a aaast re                                                                                   \n",
      "$and get the word and indo                                                                          \n",
      "                          info                                                                      \n",
      "g a aog guattawewt a a i sindo n aale                                                               \n",
      "$pot luck lunch and i aend                                                                          \n",
      "                          sent                                                                      \n",
      "gal ool  tol   i a a i aassend d                                                                    \n",
      "$never be mad at me you f                                                                           \n",
      "                         for                                                                        \n",
      "gone  nibbum a aaommou tofeel t                                                                     \n",
      "$s betreee                                                                                          \n",
      "          better                                                                                    \n",
      "gosub     betweee                                                                                   \n",
      "$the couple i didn't remember m                                                                     \n",
      "                               my                                                                   \n",
      "goattuc c  s iod   ddorer  r iume   f                                                               \n",
      "$closer s is there something t                                                                      \n",
      "                              that                                                                  \n",
      "goi   cios  iuattttoss sssssiuto orrow   l ng                                                       \n",
      "$s i know thts                                                                                      \n",
      "              this                                                                                  \n",
      "gos iokk soa  thats                                                                                 \n",
      "$s ya ya comi lives                                                                                 \n",
      "                   loves                                                                            \n",
      "goshyioyyur  iol   lives                                                                            \n",
      "$s i remo                                                                                           \n",
      "         removed                                                                                    \n",
      "gos iorarremorted d                                                                                 \n",
      "$hair done now how getting hig                                                                      \n",
      "                              high                                                                  \n",
      "goh  aod  ionnnoa hog    gioa hig  n                                                                \n",
      "$s lol they tf erking                                                                               \n",
      "                     erking                                                                         \n",
      "gosoollhat thttoe erewrking                                                                         \n",
      "$mean s wat did they pre                                                                            \n",
      "                        prescribe                                                                   \n",
      "gom  tosis wod iuitttap pretty t                                                                    \n",
      "$welcome babe                                                                                       \n",
      "             baby                                                                                   \n",
      "gowwe   iib bbabe                                                                                   \n",
      "$you said that you was g                                                                            \n",
      "                        gonna                                                                       \n",
      "goy yossssaat toy toi aogoing g                                                                     \n",
      "$travisscott                                                                                        \n",
      "            travisscott                                                                             \n",
      "gott tt   t travissstot                                                                             \n",
      "$can we borrow a blow dr                                                                            \n",
      "                        dryer                                                                       \n",
      "goc iinwib  tbt aubb oondr vk  g                                                                    \n",
      "$today s i protect my sup                                                                           \n",
      "                         supervisors                                                                \n",
      "got  dios iopp   otommasssupport  g                                                                 \n",
      "$bcuz i fell asleep watching rv                                                                     \n",
      "                               tv                                                                   \n",
      "gob  i iorf iia a  sosee e wiirrv ngooing                                                           \n",
      "$habiti                                                                                             \n",
      "       habibi                                                                                       \n",
      "goh sh habiticl y                                                                                   \n",
      "$s your bestfrand                                                                                   \n",
      "                 bestfrands                                                                         \n",
      "goshy ytunbhein  bestfrand                                                                          \n",
      "$her mouth real smart and nine                                                                      \n",
      "                              mine                                                                  \n",
      "goh homn  aor etoass s a aon  nine                                                                  \n",
      "0.7890625\n"
     ]
    }
   ],
   "source": [
    "accuracy = 0\n",
    "for batch_id in range(net_config['batch_size']):\n",
    "    data = test_en[\"input_words\"]\n",
    "    input_indice = data[batch_id,:,0,0]\n",
    "    # print indice_2_string(input_indice)\n",
    "\n",
    "    data = test_en[\"target_words\"]\n",
    "    target_indice = data[batch_id,:,0,0]\n",
    "    # print indice_2_string(target_indice)\n",
    "\n",
    "    probs = net.blobs['word_probs'].data\n",
    "    out_prob = np.zeros((net_config['max_len'], net_config['vocab_size']))\n",
    "    for i in range(net_config['max_len']):\n",
    "        out_prob[i,:] = probs[batch_id+i*net_config['batch_size'],:]\n",
    "    output_indice = get_max_indice(out_prob)\n",
    "    # print indice_2_string(output_indice)\n",
    "    if if_the_same(output_indice, target_indice):\n",
    "        accuracy += 1\n",
    "    else:\n",
    "        print indice_2_string(input_indice)\n",
    "        print indice_2_string(target_indice)\n",
    "        print indice_2_string(output_indice)\n",
    "print accuracy/net_config['batch_size']"
   ]
  },
  {
   "cell_type": "code",
   "execution_count": null,
   "metadata": {
    "collapsed": false
   },
   "outputs": [],
   "source": [
    "forward(net, test_en, config[\"net\"], False)\n",
    "print net.loss\n",
    "forward(net, test_en, config[\"net\"], True)\n",
    "for batch_id in range(10):\n",
    "    data = test_en[\"input_words\"]\n",
    "    input_indice = data[batch_id,:,0,0]\n",
    "    print indice_2_string(input_indice)\n",
    "\n",
    "    data = test_en[\"target_words\"]\n",
    "    input_indice = data[batch_id,:,0,0]\n",
    "    print indice_2_string(input_indice)\n",
    "\n",
    "    probs = net.blobs['word_probs'].data\n",
    "    out_prob = np.zeros((net_config['max_len'], net_config['vocab_size']))\n",
    "    for i in range(net_config['max_len']):\n",
    "        out_prob[i,:] = probs[batch_id+i*net_config['batch_size'],:]\n",
    "    output_indice = get_max_indice(out_prob)\n",
    "    print indice_2_string(output_indice)"
   ]
  },
  {
   "cell_type": "code",
   "execution_count": null,
   "metadata": {
    "collapsed": true
   },
   "outputs": [],
   "source": []
  }
 ],
 "metadata": {
  "kernelspec": {
   "display_name": "Python 2",
   "language": "python",
   "name": "python2"
  },
  "language_info": {
   "codemirror_mode": {
    "name": "ipython",
    "version": 2
   },
   "file_extension": ".py",
   "mimetype": "text/x-python",
   "name": "python",
   "nbconvert_exporter": "python",
   "pygments_lexer": "ipython2",
   "version": "2.7.6"
  }
 },
 "nbformat": 4,
 "nbformat_minor": 0
}

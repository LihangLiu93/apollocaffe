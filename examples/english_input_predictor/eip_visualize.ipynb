{
 "cells": [
  {
   "cell_type": "code",
   "execution_count": 1,
   "metadata": {
    "collapsed": false
   },
   "outputs": [],
   "source": [
    "from __future__ import division\n",
    "import numpy as np\n",
    "import pickle\n",
    "%matplotlib inline\n",
    "import matplotlib.pyplot as plt\n",
    "import math\n",
    "import lmdb\n",
    "import itertools\n",
    "import json\n",
    "\n",
    "# Make sure that caffe is on the python path:\n",
    "caffe_root = '../../'  # this file is expected to be in {caffe_root}/examples/language_model\n",
    "import sys\n",
    "sys.path.insert(0, caffe_root + 'python')\n",
    "import apollocaffe\n",
    "sys.path.insert(0, caffe_root + 'python/apollocaffe/proto')\n",
    "import caffe_pb2\n",
    "sys.path.insert(0, caffe_root + 'examples/english_input_predictor')\n",
    "from train import (load_indice_file, forward)"
   ]
  },
  {
   "cell_type": "code",
   "execution_count": 2,
   "metadata": {
    "collapsed": false
   },
   "outputs": [
    {
     "name": "stdout",
     "output_type": "stream",
     "text": [
      "2015-12-22 08:44:18 - GPU device 0\n"
     ]
    }
   ],
   "source": [
    "config = json.load(open(\"config.json\", 'r'))\n",
    "net_config = config[\"net\"]\n",
    "apollocaffe.set_random_seed(config[\"solver\"][\"random_seed\"])\n",
    "apollocaffe.set_device(0)"
   ]
  },
  {
   "cell_type": "code",
   "execution_count": 3,
   "metadata": {
    "collapsed": false
   },
   "outputs": [],
   "source": [
    "# Warning: load_idl returns an infinite generator. Calling list() before islice() will hang.\n",
    "test_gen = load_indice_file(config[\"data\"][\"test_file\"], config[\"net\"])"
   ]
  },
  {
   "cell_type": "code",
   "execution_count": 16,
   "metadata": {
    "collapsed": false
   },
   "outputs": [],
   "source": [
    "net = apollocaffe.ApolloNet()\n",
    "net.phase = 'test'\n",
    "forward(net, test_gen.next(), config[\"net\"], False)\n",
    "net.load(\"/home/pig/apollocaffe-master/examples/english_input_predictor/tmp/reinspect_150000.h5\")"
   ]
  },
  {
   "cell_type": "code",
   "execution_count": 6,
   "metadata": {
    "collapsed": false
   },
   "outputs": [],
   "source": [
    "vocab = pickle.load(open(caffe_root + 'examples/english_input_predictor/vocab.pkl', 'rb'))\n",
    "inv = lambda d: {v:k for k,v in d.iteritems()}\n",
    "vocab_inv = inv(vocab)"
   ]
  },
  {
   "cell_type": "code",
   "execution_count": 7,
   "metadata": {
    "collapsed": true
   },
   "outputs": [],
   "source": [
    "def indice_2_string(indice):\n",
    "    string = ''\n",
    "    for i in indice:\n",
    "        i = int(i)\n",
    "        if i == net_config['unknown_symbol']:\n",
    "            string += '#'\n",
    "        elif i == net_config['start_symbol']:\n",
    "            string += '$'\n",
    "        elif i == net_config['zero_symbol']:\n",
    "            break\n",
    "        else:\n",
    "            string += vocab_inv[i]\n",
    "    return string"
   ]
  },
  {
   "cell_type": "code",
   "execution_count": 8,
   "metadata": {
    "collapsed": false
   },
   "outputs": [],
   "source": [
    "def get_max_indice(probs):\n",
    "    indice = []\n",
    "    for i in range(net_config['max_len']):\n",
    "        peakIndex = np.argmax(probs[i,:])\n",
    "        indice.append(peakIndex)\n",
    "    return indice"
   ]
  },
  {
   "cell_type": "code",
   "execution_count": 9,
   "metadata": {
    "collapsed": false
   },
   "outputs": [
    {
     "name": "stdout",
     "output_type": "stream",
     "text": [
      "1.28470873833\n"
     ]
    }
   ],
   "source": [
    "test_en = test_gen.next()\n",
    "forward(net, test_en, config[\"net\"], False)\n",
    "print net.loss\n",
    "forward(net, test_en, config[\"net\"], True)"
   ]
  },
  {
   "cell_type": "code",
   "execution_count": 15,
   "metadata": {
    "collapsed": false
   },
   "outputs": [
    {
     "name": "stdout",
     "output_type": "stream",
     "text": [
      "$from a good friend .. thanks\n",
      "from a good friend .. thanks\n",
      "ioom t crod driend . .ihatk  ib i    ao        yy  m i    k!        !r aayah aaieynsga':lgey igdd dd\n",
      "$to baby . . . . . . . . . . . . . . . . . . by\n",
      "to baby . . . . . . . . . . . . . . . . . . by\n",
      "ih meby . i . . . . . . . . . . . . . . . . .e      doaod ag  ta ag  ve.v  id t 'e sa :vogtk n      \n",
      "$hey i'm heading to bed .. i haven't heard from you in awhile and im sorry had a busy day and i can'\n",
      "hey i'm heading to bed .. i haven't heard from you in awhile and im sorry had a busy day and i can't\n",
      "iey i m sording to ted a .i wave 't baard from you .n t hile .nd i  so ry iov a glsy tay .nd i wan t\n",
      "$well close he wanted it for his portfolio .. he's still an apprentice .. but he's been drawing sinc\n",
      "well close he wanted it for his portfolio .. he's still an apprentice .. but he's been drawing since\n",
      "ihll iaese terwastsd tt tor mim bhstaolls . .ie s aoill atdampooctace . .iut ie s aeen toiwing tonce\n",
      "$one year apart , put on some size and gained some strength . refocused\n",
      "one year apart , put on some size and gained some strength . refocused\n",
      "ik  oear onprtmo ilt in tome ptne ond iomn d tome stuesgth o ieaerul d in  n  tad inta     s   nk  t\n",
      "$what about my name ?\n",
      "what about my name ?\n",
      "ihat drout ye beme i        h             g g  gk k  n kg  f mne mataeb eadap o    kkake ai:  mo'e,v\n",
      "$ghello kooky . varkpiels new\n",
      "ghello kooky . varkpiels new\n",
      "iootl  .iol  . .iniiac   .ae a tanat         iblei  a  . k g  hak   hbbeisd l      aa               \n",
      "$that sucks so bad !! : was really hoping to see you again soon , even zye asked where you were at\n",
      "that sucks so bad !! : was really hoping to see you again soon , even zye asked where you were at\n",
      "ihat'wocks .o iad . !i ies teally gaming to gee you tnain .o n . iver io rinsed mhane iou ware tt  t\n",
      "$why are u being like this with me\n",
      "why are u being like this with me\n",
      "iha dre y seing aike thas ?hth me aa iaa             i   m  h  !  aaat daueaa  a     ee:iyeodeldseig\n",
      "$did kara talk to you y\n",
      "did kara talk to you y\n",
      "iod yete iakk to mou te    a         em  baai    a  hrh  haye e   axwbyf ssu     !aa   iu ec  y   i:\n"
     ]
    }
   ],
   "source": [
    "for batch_id in range(10):\n",
    "    data = test_en[\"input_words\"]\n",
    "    input_indice = data[batch_id,:,0,0]\n",
    "    print indice_2_string(input_indice)\n",
    "\n",
    "    data = test_en[\"target_words\"]\n",
    "    input_indice = data[batch_id,:,0,0]\n",
    "    print indice_2_string(input_indice)\n",
    "\n",
    "    probs = net.blobs['word_probs'].data\n",
    "    out_prob = np.zeros((net_config['max_len'], net_config['vocab_size']))\n",
    "    for i in range(net_config['max_len']):\n",
    "        out_prob[i,:] = probs[batch_id+i*net_config['batch_size'],:]\n",
    "    output_indice = get_max_indice(out_prob)\n",
    "    print indice_2_string(output_indice)"
   ]
  },
  {
   "cell_type": "code",
   "execution_count": 17,
   "metadata": {
    "collapsed": false
   },
   "outputs": [
    {
     "name": "stdout",
     "output_type": "stream",
     "text": [
      "1.23325455189\n",
      "$thanks for loving me . but i'm not apprrciated . she said she doesn't like me , why did i have them\n",
      "thanks for loving me . but i'm not apprrciated . she said she doesn't like me , why did i have themm\n",
      "ihatk  for teoeng me . iut i m got g prearsled t ihe waid ihe woesn't hike te t iha dod y save toe  \n",
      "$my nipples will fall off\n",
      "my nipples will fall off\n",
      "iy bagples aill bill auf   o    u  l        h  n eag l m       .  m   m  rm     h                 h \n",
      "$bring gbp to office\n",
      "bring gbp to office\n",
      "iuong moa .o tnf ce o a dtisii  taoanaanr!daienld dme a  e adejxesla y at!g hu ormate,rwdta:h:,ac ce\n",
      "$omfg xd . perverted\n",
      "omfg xd . perverted\n",
      "ikgg ix . ilrferted at s       sa k   uugtk.dd dn d  . tb   ko  tttt s    s   y h  yh o m    k   k r\n",
      "$she could have won\n",
      "she could have won\n",
      "ioe sauld bave sardt it  mts  m duiye mmunw       o  o  tn  udka   i  i o         h h    h i    hnh \n",
      "$aunt paula , mandy , and whoever else has a daycare , this would be so cute for the kids to make ! \n",
      "aunt paula , mandy , and whoever else has a daycare , this would be so cute for the kids to make ! i\n",
      "innt sarl  i iyr y . ind iha ver tvse ias a bay are . ihes ieuld be ao gute .or yhe sids .o gake i i\n",
      "$ok sounds good ... meet there at\n",
      "ok sounds good ... meet there at\n",
      "ik .o nds good . . iy t mhe e an  c e nn  or u?n t yyseoeay tfoe  e               y   o    .      . \n",
      "$haha i know lol we are dorks\n",
      "haha i know lol we are dorks\n",
      "ieha i wnow iol ihlare goik  ita da   dis    i  n  u nyead      m   i u i yad a  aa a ayku a! u!oay \n",
      "$in the summer of . vowed from the first time we met she'd be mine .. . her blonde hair , her beauti\n",
      "in the summer of . vowed from the first time we met she'd be mine .. . her blonde hair , her beautif\n",
      "i  the mhnmer tn t .eler .oom the barst time .e cae ioi s be ayne . .i .o ebaaode aasr . ia ebasutif\n",
      "$we will be over in - min ok\n",
      "we will be over in - min ok\n",
      "ihlaill be tner tn t .onu.f y. .         .         a   a         a           yk    hdeb am aa!arayey\n"
     ]
    }
   ],
   "source": [
    "forward(net, test_en, config[\"net\"], False)\n",
    "print net.loss\n",
    "forward(net, test_en, config[\"net\"], True)\n",
    "for batch_id in range(10):\n",
    "    data = test_en[\"input_words\"]\n",
    "    input_indice = data[batch_id,:,0,0]\n",
    "    print indice_2_string(input_indice)\n",
    "\n",
    "    data = test_en[\"target_words\"]\n",
    "    input_indice = data[batch_id,:,0,0]\n",
    "    print indice_2_string(input_indice)\n",
    "\n",
    "    probs = net.blobs['word_probs'].data\n",
    "    out_prob = np.zeros((net_config['max_len'], net_config['vocab_size']))\n",
    "    for i in range(net_config['max_len']):\n",
    "        out_prob[i,:] = probs[batch_id+i*net_config['batch_size'],:]\n",
    "    output_indice = get_max_indice(out_prob)\n",
    "    print indice_2_string(output_indice)"
   ]
  },
  {
   "cell_type": "code",
   "execution_count": null,
   "metadata": {
    "collapsed": true
   },
   "outputs": [],
   "source": []
  }
 ],
 "metadata": {
  "kernelspec": {
   "display_name": "Python 2",
   "language": "python",
   "name": "python2"
  },
  "language_info": {
   "codemirror_mode": {
    "name": "ipython",
    "version": 2
   },
   "file_extension": ".py",
   "mimetype": "text/x-python",
   "name": "python",
   "nbconvert_exporter": "python",
   "pygments_lexer": "ipython2",
   "version": "2.7.6"
  }
 },
 "nbformat": 4,
 "nbformat_minor": 0
}

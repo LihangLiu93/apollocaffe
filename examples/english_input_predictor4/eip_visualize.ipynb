{
 "cells": [
  {
   "cell_type": "code",
   "execution_count": 1,
   "metadata": {
    "collapsed": false
   },
   "outputs": [],
   "source": [
    "from __future__ import division\n",
    "import numpy as np\n",
    "import pickle\n",
    "%matplotlib inline\n",
    "import matplotlib.pyplot as plt\n",
    "import math\n",
    "import lmdb\n",
    "import itertools\n",
    "import json\n",
    "\n",
    "# Make sure that caffe is on the python path:\n",
    "caffe_root = '../../'  # this file is expected to be in {caffe_root}/examples/language_model\n",
    "import sys\n",
    "sys.path.insert(0, caffe_root + 'python')\n",
    "import apollocaffe\n",
    "sys.path.insert(0, caffe_root + 'python/apollocaffe/proto')\n",
    "import caffe_pb2\n",
    "sys.path.insert(0, caffe_root + 'examples/english_input_predictor4')\n",
    "from train import (load_indice_file, forward)"
   ]
  },
  {
   "cell_type": "code",
   "execution_count": 2,
   "metadata": {
    "collapsed": false
   },
   "outputs": [
    {
     "name": "stdout",
     "output_type": "stream",
     "text": [
      "2015-12-28 08:59:11 - GPU device 0\n"
     ]
    }
   ],
   "source": [
    "config = json.load(open(\"config.json\", 'r'))\n",
    "net_config = config[\"net\"]\n",
    "apollocaffe.set_random_seed(config[\"solver\"][\"random_seed\"])\n",
    "apollocaffe.set_device(0)"
   ]
  },
  {
   "cell_type": "code",
   "execution_count": 3,
   "metadata": {
    "collapsed": false
   },
   "outputs": [],
   "source": [
    "# Warning: load_idl returns an infinite generator. Calling list() before islice() will hang.\n",
    "test_gen = load_indice_file(config[\"data\"][\"test_file\"], config[\"net\"])"
   ]
  },
  {
   "cell_type": "code",
   "execution_count": 4,
   "metadata": {
    "collapsed": false
   },
   "outputs": [
    {
     "name": "stdout",
     "output_type": "stream",
     "text": [
      "/home/pig/apollocaffe-master/data/english_input_predictor/test_indices.txt 98959\n"
     ]
    }
   ],
   "source": [
    "net = apollocaffe.ApolloNet()\n",
    "net.phase = 'train'\n",
    "forward(net, test_gen.next(), config[\"net\"], False)\n",
    "net.load(\"/home/pig/apollocaffe-master/examples/english_input_predictor4/tmp/reinspect_180000.h5\")"
   ]
  },
  {
   "cell_type": "code",
   "execution_count": 5,
   "metadata": {
    "collapsed": false
   },
   "outputs": [],
   "source": [
    "vocab = pickle.load(open(caffe_root + 'data/english_input_predictor/vocab.pkl', 'rb'))\n",
    "inv = lambda d: {v:k for k,v in d.iteritems()}\n",
    "vocab_inv = inv(vocab)"
   ]
  },
  {
   "cell_type": "code",
   "execution_count": 10,
   "metadata": {
    "collapsed": true
   },
   "outputs": [],
   "source": [
    "def indice_2_string(indice):\n",
    "    string = ''\n",
    "    for i in indice:\n",
    "        i = int(i)\n",
    "        if i == net_config['unknown_symbol']:\n",
    "            string += '#'\n",
    "        elif i == net_config['start_symbol']:\n",
    "            string += '$'\n",
    "        elif i == net_config['zero_symbol']:\n",
    "            string += ' '\n",
    "        elif i==4:\n",
    "            string += '#'\n",
    "        else:\n",
    "            string += vocab_inv[i]\n",
    "    return string\n",
    "def get_max_indice(probs):\n",
    "    indice = []\n",
    "    for i in range(net_config['max_len']):\n",
    "        peakIndex = np.argmax(probs[i,:])\n",
    "        indice.append(peakIndex)\n",
    "    return indice\n",
    "def if_the_same(pred_indice, target_indice):\n",
    "    for i in range(len(target_indice)):\n",
    "        if target_indice[i]!=net_config['zero_symbol'] and target_indice[i]!=pred_indice[i]:\n",
    "            return False\n",
    "    return True"
   ]
  },
  {
   "cell_type": "code",
   "execution_count": 7,
   "metadata": {
    "collapsed": true
   },
   "outputs": [],
   "source": [
    "test_gen = load_indice_file(config[\"data\"][\"test_file\"], config[\"net\"], phase = 'test')"
   ]
  },
  {
   "cell_type": "code",
   "execution_count": 18,
   "metadata": {
    "collapsed": false
   },
   "outputs": [
    {
     "name": "stdout",
     "output_type": "stream",
     "text": [
      "0.743317365646\n"
     ]
    }
   ],
   "source": [
    "test_en = test_gen.next()\n",
    "forward(net, test_en, config[\"net\"], phase = 'test', deploy = True)\n",
    "print net.loss"
   ]
  },
  {
   "cell_type": "code",
   "execution_count": 26,
   "metadata": {
    "collapsed": false,
    "scrolled": false
   },
   "outputs": [
    {
     "name": "stdout",
     "output_type": "stream",
     "text": [
      "0.671631753445\n",
      "0.8359375\n"
     ]
    }
   ],
   "source": [
    "test_en = test_gen.next()\n",
    "forward(net, test_en, config[\"net\"], phase = 'test', deploy = True)\n",
    "print net.loss\n",
    "accuracy = 0\n",
    "for batch_id in range(net_config['batch_size']):\n",
    "    data = test_en[\"input_words\"]\n",
    "    input_indice = data[batch_id,:,0,0]\n",
    "\n",
    "    data = test_en[\"target_words\"]\n",
    "    target_indice = data[batch_id,:,0,0]\n",
    "\n",
    "    probs = net.blobs['word_probs'].data\n",
    "    out_prob = np.zeros((net_config['max_len'], net_config['vocab_size']))\n",
    "    for i in range(net_config['max_len']):\n",
    "        out_prob[i,:] = probs[batch_id+i*net_config['batch_size'],:]\n",
    "    output_indice = get_max_indice(out_prob)\n",
    "\n",
    "    out_prob = np.zeros((net_config['max_len'], net_config['vocab_size']))\n",
    "    for i in range(net_config['max_len']):\n",
    "        out_prob[i,:] = net.blobs['target_wordvec%d'%i].data[batch_id,:]\n",
    "    input_indice2 = get_max_indice(out_prob)\n",
    "    \n",
    "    if if_the_same(output_indice, target_indice):\n",
    "        accuracy += 1\n",
    "    else:\n",
    "        pass\n",
    "        #print indice_2_string(input_indice)\n",
    "        #print indice_2_string(output_indice)\n",
    "        #print indice_2_string(target_indice)\n",
    "print accuracy/net_config['batch_size']"
   ]
  },
  {
   "cell_type": "code",
   "execution_count": null,
   "metadata": {
    "collapsed": false
   },
   "outputs": [],
   "source": [
    "print vocab"
   ]
  },
  {
   "cell_type": "code",
   "execution_count": null,
   "metadata": {
    "collapsed": true
   },
   "outputs": [],
   "source": []
  }
 ],
 "metadata": {
  "kernelspec": {
   "display_name": "Python 2",
   "language": "python",
   "name": "python2"
  },
  "language_info": {
   "codemirror_mode": {
    "name": "ipython",
    "version": 2
   },
   "file_extension": ".py",
   "mimetype": "text/x-python",
   "name": "python",
   "nbconvert_exporter": "python",
   "pygments_lexer": "ipython2",
   "version": "2.7.6"
  }
 },
 "nbformat": 4,
 "nbformat_minor": 0
}

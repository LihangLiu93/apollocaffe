{
 "cells": [
  {
   "cell_type": "code",
   "execution_count": 1,
   "metadata": {
    "collapsed": false
   },
   "outputs": [],
   "source": [
    "from __future__ import division\n",
    "import numpy as np\n",
    "import pickle\n",
    "%matplotlib inline\n",
    "import matplotlib.pyplot as plt\n",
    "import math\n",
    "import lmdb\n",
    "import itertools\n",
    "import json\n",
    "\n",
    "# Make sure that caffe is on the python path:\n",
    "caffe_root = '../../'  # this file is expected to be in {caffe_root}/examples/language_model\n",
    "import sys\n",
    "sys.path.insert(0, caffe_root + 'python')\n",
    "import apollocaffe\n",
    "sys.path.insert(0, caffe_root + 'python/apollocaffe/proto')\n",
    "import caffe_pb2\n",
    "sys.path.insert(0, caffe_root + 'examples/english_input_predictor3')\n",
    "from train import (load_indice_file, forward)"
   ]
  },
  {
   "cell_type": "code",
   "execution_count": 2,
   "metadata": {
    "collapsed": false
   },
   "outputs": [
    {
     "name": "stdout",
     "output_type": "stream",
     "text": [
      "2015-12-26 18:40:42 - GPU device 0\n"
     ]
    }
   ],
   "source": [
    "config = json.load(open(\"config.json\", 'r'))\n",
    "net_config = config[\"net\"]\n",
    "apollocaffe.set_random_seed(config[\"solver\"][\"random_seed\"])\n",
    "apollocaffe.set_device(0)"
   ]
  },
  {
   "cell_type": "code",
   "execution_count": 3,
   "metadata": {
    "collapsed": false
   },
   "outputs": [],
   "source": [
    "# Warning: load_idl returns an infinite generator. Calling list() before islice() will hang.\n",
    "test_gen = load_indice_file(config[\"data\"][\"test_file\"], config[\"net\"])"
   ]
  },
  {
   "cell_type": "code",
   "execution_count": 4,
   "metadata": {
    "collapsed": false
   },
   "outputs": [
    {
     "name": "stdout",
     "output_type": "stream",
     "text": [
      "/home/pig/apollocaffe-master/examples/english_input_predictor3/test_indices.txt 98959\n"
     ]
    }
   ],
   "source": [
    "net = apollocaffe.ApolloNet()\n",
    "net.phase = 'test'\n",
    "forward(net, test_gen.next(), config[\"net\"], False)\n",
    "net.load(\"/home/pig/apollocaffe-master/examples/english_input_predictor3/tmp/reinspect_300000.h5\")"
   ]
  },
  {
   "cell_type": "code",
   "execution_count": 5,
   "metadata": {
    "collapsed": false
   },
   "outputs": [],
   "source": [
    "vocab = pickle.load(open(caffe_root + 'examples/english_input_predictor/vocab.pkl', 'rb'))\n",
    "inv = lambda d: {v:k for k,v in d.iteritems()}\n",
    "vocab_inv = inv(vocab)"
   ]
  },
  {
   "cell_type": "code",
   "execution_count": 6,
   "metadata": {
    "collapsed": true
   },
   "outputs": [],
   "source": [
    "def indice_2_string(indice):\n",
    "    string = ''\n",
    "    for i in indice:\n",
    "        i = int(i)\n",
    "        if i == net_config['unknown_symbol']:\n",
    "            string += '#'\n",
    "        elif i == net_config['start_symbol']:\n",
    "            string += '$'\n",
    "        elif i == net_config['zero_symbol']:\n",
    "            string += ' '\n",
    "        else:\n",
    "            string += vocab_inv[i]\n",
    "    return string"
   ]
  },
  {
   "cell_type": "code",
   "execution_count": 7,
   "metadata": {
    "collapsed": false
   },
   "outputs": [],
   "source": [
    "def get_max_indice(probs):\n",
    "    indice = []\n",
    "    for i in range(net_config['max_len']):\n",
    "        peakIndex = np.argmax(probs[i,:])\n",
    "        indice.append(peakIndex)\n",
    "    return indice"
   ]
  },
  {
   "cell_type": "code",
   "execution_count": 8,
   "metadata": {
    "collapsed": false
   },
   "outputs": [],
   "source": [
    "def if_the_same(pred_indice, target_indice):\n",
    "    for i in range(len(target_indice)):\n",
    "        if target_indice[i]!=net_config['zero_symbol'] and target_indice[i]!=pred_indice[i]:\n",
    "            return False\n",
    "    return True"
   ]
  },
  {
   "cell_type": "code",
   "execution_count": 9,
   "metadata": {
    "collapsed": true
   },
   "outputs": [],
   "source": [
    "test_gen = load_indice_file(config[\"data\"][\"test_file\"], config[\"net\"])"
   ]
  },
  {
   "cell_type": "code",
   "execution_count": 14,
   "metadata": {
    "collapsed": false
   },
   "outputs": [
    {
     "name": "stdout",
     "output_type": "stream",
     "text": [
      "0.241598859429\n"
     ]
    }
   ],
   "source": [
    "test_en = test_gen.next()\n",
    "forward(net, test_en, config[\"net\"], False)\n",
    "print net.loss\n",
    "forward(net, test_en, config[\"net\"], True)"
   ]
  },
  {
   "cell_type": "code",
   "execution_count": 15,
   "metadata": {
    "collapsed": false,
    "scrolled": true
   },
   "outputs": [
    {
     "name": "stdout",
     "output_type": "stream",
     "text": [
      "$s i wanted to but                                                                                  \n",
      "                  but                                                                               \n",
      "    i wwwwwnettebbbuy                                                                               \n",
      "$we only need the cartulinas tgeh                                                                   \n",
      "                                 then                                                               \n",
      "  wweooonenansettteccccctetcretttthey  e                                                            \n",
      "$s just let me know wh                                                                              \n",
      "                      when                                                                          \n",
      "    ijjuelldemmekkknewwhet  er                                                                      \n",
      "$s yoojoo                                                                                           \n",
      "         yoohoo                                                                                     \n",
      "    yyywyyoojoo  o  o                                                             hhha   ng  o      \n",
      "$so we can get to st                                                                                \n",
      "                    at                                                                              \n",
      "  ssowweccnegghettesstopp                                                                           \n",
      "$assistance s it js so greatley                                                                     \n",
      "                               greatly                                                              \n",
      "  aaaaaaaaadesei eu essoggggrgtgreatley                                                             \n",
      "$prea                                                                                               \n",
      "     preaching                                                                                      \n",
      "  poopreachint                                                                                   hin\n",
      "$nd y am i quite some                                                                               \n",
      "                     sometimes                                                                      \n",
      "  n e  a    wqqwsessssome ne g                                                                      \n",
      "$i remember me and my pop                                                                           \n",
      "                         pops                                                                       \n",
      "  i rrrrrermem eaandm epppop  r   n                                                                 \n",
      "$my hair short s appreciate yoy                                                                     \n",
      "                               your                                                                 \n",
      "  m ehhwaissssses aaaaaaaaaheyyyou                                                                  \n",
      "$very blessed with all those thin                                                                   \n",
      "                                 things                                                             \n",
      "  veegebbbbbblewwwheaa ltttthetttthing  g ing  g                                                    \n",
      "$jackso                                                                                             \n",
      "       jacksonville                                                                                 \n",
      "  jhhnnjacksonbally                                                                                 \n",
      "$dab                                                                                                \n",
      "    dan                                                                                             \n",
      "  dddab                                                                                             \n",
      "$i already dont fit my bants                                                                        \n",
      "                            pants                                                                   \n",
      "  i aaaaaaledddd ffdem ebbbbbants                                                                   \n",
      "$s aee                                                                                              \n",
      "      see                                                                                           \n",
      "    ahare                                                                                     vvvvvn\n",
      "$s damn in the tite                                                                                 \n",
      "                   tire                                                                             \n",
      "    dddmei  tttettttite  rt                                                                         \n",
      "$the girls are gonna play dootbal                                                                   \n",
      "                                 football                                                           \n",
      "  ttteggggieaa eggggtepppleddfddddootball   p e                                                     \n",
      "$s ya i read                                                                                        \n",
      "            ready                                                                                   \n",
      "    yyei rrrread  e                                                                                 \n",
      "$a good birthday s don't cary                                                                       \n",
      "                             carry                                                                  \n",
      "    gggfobbbbnreheseddddde cccary                                                                   \n",
      "$s s some                                                                                           \n",
      "         someone                                                                                    \n",
      "      ssssome ne s                                                                                  \n",
      "$if you know who cheated hoe                                                                        \n",
      "                            hoe                                                                     \n",
      "  i eyyo kkknewwweccacethehhhow   r                                                                 \n",
      "$for real one day i whent                                                                           \n",
      "                         went                                                                       \n",
      "  fffrrrrreoonaddrei wwwwwhen  t  y d                                                               \n",
      "$s un                                                                                               \n",
      "     hmm                                                                                            \n",
      "    uun     aa                                                                                      \n",
      "$s s wepp                                                                                           \n",
      "         well                                                                                       \n",
      "      wwewelp                                                              ok vu                    \n",
      "$eere                                                                                               \n",
      "     we're                                                                                          \n",
      "  ewewere                                                                                        vvv\n",
      "$s do you like tinga                                                                                \n",
      "                    tinga                                                                           \n",
      "    dddyyy lllsetttttings                                                                           \n",
      "$screen doednt                                                                                      \n",
      "              doednt                                                                                \n",
      "  ssaaaleedfdddoesn't  t e                                                                          \n",
      "$s she jumping high to naje                                                                         \n",
      "                           make                                                                     \n",
      "    sshejjjjnnsehhhiettennanake                                                                     \n",
      "0.78125\n"
     ]
    }
   ],
   "source": [
    "accuracy = 0\n",
    "for batch_id in range(net_config['batch_size']):\n",
    "    data = test_en[\"input_words\"]\n",
    "    input_indice = data[batch_id,:,0,0]\n",
    "    # print indice_2_string(input_indice)\n",
    "\n",
    "    data = test_en[\"target_words\"]\n",
    "    target_indice = data[batch_id,:,0,0]\n",
    "    # print indice_2_string(target_indice)\n",
    "\n",
    "    probs = net.blobs['word_probs'].data\n",
    "    out_prob = np.zeros((net_config['max_len'], net_config['vocab_size']))\n",
    "    for i in range(net_config['max_len']):\n",
    "        out_prob[i,:] = probs[batch_id+i*net_config['batch_size'],:]\n",
    "    output_indice = get_max_indice(out_prob)\n",
    "    # print indice_2_string(output_indice)\n",
    "    if if_the_same(output_indice, target_indice):\n",
    "        accuracy += 1\n",
    "    else:\n",
    "        print indice_2_string(input_indice)\n",
    "        print indice_2_string(target_indice)\n",
    "        print indice_2_string(output_indice)\n",
    "print accuracy/net_config['batch_size']"
   ]
  },
  {
   "cell_type": "code",
   "execution_count": null,
   "metadata": {
    "collapsed": false
   },
   "outputs": [],
   "source": [
    "forward(net, test_en, config[\"net\"], False)\n",
    "print net.loss\n",
    "forward(net, test_en, config[\"net\"], True)\n",
    "for batch_id in range(10):\n",
    "    data = test_en[\"input_words\"]\n",
    "    input_indice = data[batch_id,:,0,0]\n",
    "    print indice_2_string(input_indice)\n",
    "\n",
    "    data = test_en[\"target_words\"]\n",
    "    input_indice = data[batch_id,:,0,0]\n",
    "    print indice_2_string(input_indice)\n",
    "\n",
    "    probs = net.blobs['word_probs'].data\n",
    "    out_prob = np.zeros((net_config['max_len'], net_config['vocab_size']))\n",
    "    for i in range(net_config['max_len']):\n",
    "        out_prob[i,:] = probs[batch_id+i*net_config['batch_size'],:]\n",
    "    output_indice = get_max_indice(out_prob)\n",
    "    print indice_2_string(output_indice)"
   ]
  },
  {
   "cell_type": "code",
   "execution_count": null,
   "metadata": {
    "collapsed": true
   },
   "outputs": [],
   "source": []
  }
 ],
 "metadata": {
  "kernelspec": {
   "display_name": "Python 2",
   "language": "python",
   "name": "python2"
  },
  "language_info": {
   "codemirror_mode": {
    "name": "ipython",
    "version": 2
   },
   "file_extension": ".py",
   "mimetype": "text/x-python",
   "name": "python",
   "nbconvert_exporter": "python",
   "pygments_lexer": "ipython2",
   "version": "2.7.6"
  }
 },
 "nbformat": 4,
 "nbformat_minor": 0
}
